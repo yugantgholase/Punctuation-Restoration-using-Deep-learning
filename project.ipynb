{
  "nbformat": 4,
  "nbformat_minor": 0,
  "metadata": {
    "colab": {
      "name": "project.ipynb",
      "provenance": [],
      "collapsed_sections": [],
      "authorship_tag": "ABX9TyOYMZSBIMH2yhYYHRIbk8Ie",
      "include_colab_link": true
    },
    "kernelspec": {
      "name": "python3",
      "display_name": "Python 3"
    },
    "language_info": {
      "name": "python"
    }
  },
  "cells": [
    {
      "cell_type": "markdown",
      "metadata": {
        "id": "view-in-github",
        "colab_type": "text"
      },
      "source": [
        "<a href=\"https://colab.research.google.com/github/yugantgholase/Punctuation-Restoration-using-Deep-learning/blob/main/project.ipynb\" target=\"_parent\"><img src=\"https://colab.research.google.com/assets/colab-badge.svg\" alt=\"Open In Colab\"/></a>"
      ]
    },
    {
      "cell_type": "code",
      "execution_count": null,
      "metadata": {
        "id": "aEwSxxJWEMuO",
        "colab": {
          "base_uri": "https://localhost:8080/"
        },
        "outputId": "799a592e-73b0-4f29-ee7a-fc8b3767b85f"
      },
      "outputs": [
        {
          "output_type": "stream",
          "name": "stderr",
          "text": [
            "[nltk_data] Downloading package punkt to /root/nltk_data...\n",
            "[nltk_data]   Unzipping tokenizers/punkt.zip.\n"
          ]
        },
        {
          "output_type": "execute_result",
          "data": {
            "text/plain": [
              "True"
            ]
          },
          "metadata": {},
          "execution_count": 1
        }
      ],
      "source": [
        "import nltk\n",
        "nltk.download('punkt')\n"
      ]
    },
    {
      "cell_type": "code",
      "source": [
        "import csv"
      ],
      "metadata": {
        "id": "SjzMfLp2Rj5d"
      },
      "execution_count": null,
      "outputs": []
    },
    {
      "cell_type": "code",
      "source": [
        "filename = (r'/content/text.txt')\n",
        "file = open(filename, 'r')\n",
        "text = file.read()\n",
        "file.close()"
      ],
      "metadata": {
        "id": "kaqdeYjhupFB"
      },
      "execution_count": null,
      "outputs": []
    },
    {
      "cell_type": "code",
      "source": [
        "text"
      ],
      "metadata": {
        "id": "L4IxJiELvCc-",
        "colab": {
          "base_uri": "https://localhost:8080/",
          "height": 140
        },
        "outputId": "93ee2dc0-e915-4dcc-de4e-dd8d7410b14b"
      },
      "execution_count": null,
      "outputs": [
        {
          "output_type": "execute_result",
          "data": {
            "text/plain": [
              "\"A paragraph is a series of sentences that are organized and coherent, and are all related to a single topic.\\nAlmost every piece of writing you do that is longer than a few sentences should be organized into paragraphs.\\nThis is because paragraphs show a reader where the subdivisions of an essay begin and end, and thus help the reader see the organization of the essay and grasp its main points.\\nParagraphs can contain many different kinds of information.\\nA paragraph could contain a series of brief examples or a single long illustration of a general point. \\nIt might describe a place, character, or process; narrate a series of events; compare or contrast two or more things; classify items into categories; or describe causes and effects. \\nRegardless of the kind of information they contain, all paragraphs share certain characteristics. \\nOne of the most important of these is a topic sentence.\\nA well-organized paragraph supports or develops a single controlling idea, which is expressed in a sentence called the topic sentence.\\nAlthough most paragraphs should have a topic sentence, there are a few situations when a paragraph might not need a topic sentence.\\nEveryone who speaks a language, speaks it with an accent. \\nA particular accent essentially reflects a person's linguistic background.\\nWhen people listen to someone speak with a different accent from their own, they notice the difference, and they may even make certain biased social judgments about the speaker.\\nThe speech accent archive is established to uniformly exhibit a large set of speech accents from a variety of language backgrounds. \\nNative and non-native speakers of English all read the same English paragraph and are carefully recorded.\\nThe archive is constructed as a teaching tool and as a research tool.\\nIt is meant to be used by linguists as well as other people who simply wish to listen to and compare the accents of different English speakers.\\n\""
            ],
            "application/vnd.google.colaboratory.intrinsic+json": {
              "type": "string"
            }
          },
          "metadata": {},
          "execution_count": 4
        }
      ]
    },
    {
      "cell_type": "code",
      "source": [
        "textlist = nltk.sent_tokenize(text)"
      ],
      "metadata": {
        "id": "2ubDiisjvDKf"
      },
      "execution_count": null,
      "outputs": []
    },
    {
      "cell_type": "code",
      "source": [
        "textlist"
      ],
      "metadata": {
        "id": "ygkeP3H5vMXK",
        "colab": {
          "base_uri": "https://localhost:8080/"
        },
        "outputId": "eb3b585b-250e-4ddc-db65-7c9e30745387"
      },
      "execution_count": null,
      "outputs": [
        {
          "output_type": "execute_result",
          "data": {
            "text/plain": [
              "['A paragraph is a series of sentences that are organized and coherent, and are all related to a single topic.',\n",
              " 'Almost every piece of writing you do that is longer than a few sentences should be organized into paragraphs.',\n",
              " 'This is because paragraphs show a reader where the subdivisions of an essay begin and end, and thus help the reader see the organization of the essay and grasp its main points.',\n",
              " 'Paragraphs can contain many different kinds of information.',\n",
              " 'A paragraph could contain a series of brief examples or a single long illustration of a general point.',\n",
              " 'It might describe a place, character, or process; narrate a series of events; compare or contrast two or more things; classify items into categories; or describe causes and effects.',\n",
              " 'Regardless of the kind of information they contain, all paragraphs share certain characteristics.',\n",
              " 'One of the most important of these is a topic sentence.',\n",
              " 'A well-organized paragraph supports or develops a single controlling idea, which is expressed in a sentence called the topic sentence.',\n",
              " 'Although most paragraphs should have a topic sentence, there are a few situations when a paragraph might not need a topic sentence.',\n",
              " 'Everyone who speaks a language, speaks it with an accent.',\n",
              " \"A particular accent essentially reflects a person's linguistic background.\",\n",
              " 'When people listen to someone speak with a different accent from their own, they notice the difference, and they may even make certain biased social judgments about the speaker.',\n",
              " 'The speech accent archive is established to uniformly exhibit a large set of speech accents from a variety of language backgrounds.',\n",
              " 'Native and non-native speakers of English all read the same English paragraph and are carefully recorded.',\n",
              " 'The archive is constructed as a teaching tool and as a research tool.',\n",
              " 'It is meant to be used by linguists as well as other people who simply wish to listen to and compare the accents of different English speakers.']"
            ]
          },
          "metadata": {},
          "execution_count": 6
        }
      ]
    },
    {
      "cell_type": "code",
      "source": [
        "#function to remove punctuation from string\n",
        "import string\n",
        "from nltk.tokenize import word_tokenize\n",
        "def removepunctuation(s):\n",
        "  myset =  set(string.punctuation) \n",
        "  sentence = word_tokenize(s)\n",
        "  filtered_word = []\n",
        "  for i in sentence:\n",
        "      if i not in myset:\n",
        "          filtered_word.append(i);\n",
        "  str = \" \"\n",
        "  return(str.join(filtered_word))"
      ],
      "metadata": {
        "id": "nF87VsMskcBy"
      },
      "execution_count": null,
      "outputs": []
    },
    {
      "cell_type": "code",
      "source": [
        "string1 = removepunctuation(\"A paragraph is a series of sentences that are organized and coherent, and are all related to a single topic.\")\n",
        "print(string1)"
      ],
      "metadata": {
        "id": "7qUvIfOsk_cR",
        "colab": {
          "base_uri": "https://localhost:8080/"
        },
        "outputId": "d4f59433-34c7-4f9a-ff03-f578fe9ede2c"
      },
      "execution_count": null,
      "outputs": [
        {
          "output_type": "stream",
          "name": "stdout",
          "text": [
            "A paragraph is a series of sentences that are organized and coherent and are all related to a single topic\n"
          ]
        }
      ]
    },
    {
      "cell_type": "code",
      "source": [
        "inputlist = []\n",
        "for text in textlist:\n",
        "  string1 = removepunctuation(text)\n",
        "  inputlist.append(string1)\n",
        "  string1=\"\""
      ],
      "metadata": {
        "id": "-oEDwK9jnJBV"
      },
      "execution_count": null,
      "outputs": []
    },
    {
      "cell_type": "code",
      "source": [
        "inputlist"
      ],
      "metadata": {
        "id": "fxBUQnCGnzxv",
        "colab": {
          "base_uri": "https://localhost:8080/"
        },
        "outputId": "9c8add22-16a3-460b-f300-0154a4e5c845"
      },
      "execution_count": null,
      "outputs": [
        {
          "output_type": "execute_result",
          "data": {
            "text/plain": [
              "['A paragraph is a series of sentences that are organized and coherent and are all related to a single topic',\n",
              " 'Almost every piece of writing you do that is longer than a few sentences should be organized into paragraphs',\n",
              " 'This is because paragraphs show a reader where the subdivisions of an essay begin and end and thus help the reader see the organization of the essay and grasp its main points',\n",
              " 'Paragraphs can contain many different kinds of information',\n",
              " 'A paragraph could contain a series of brief examples or a single long illustration of a general point',\n",
              " 'It might describe a place character or process narrate a series of events compare or contrast two or more things classify items into categories or describe causes and effects',\n",
              " 'Regardless of the kind of information they contain all paragraphs share certain characteristics',\n",
              " 'One of the most important of these is a topic sentence',\n",
              " 'A well-organized paragraph supports or develops a single controlling idea which is expressed in a sentence called the topic sentence',\n",
              " 'Although most paragraphs should have a topic sentence there are a few situations when a paragraph might not need a topic sentence',\n",
              " 'Everyone who speaks a language speaks it with an accent',\n",
              " \"A particular accent essentially reflects a person 's linguistic background\",\n",
              " 'When people listen to someone speak with a different accent from their own they notice the difference and they may even make certain biased social judgments about the speaker',\n",
              " 'The speech accent archive is established to uniformly exhibit a large set of speech accents from a variety of language backgrounds',\n",
              " 'Native and non-native speakers of English all read the same English paragraph and are carefully recorded',\n",
              " 'The archive is constructed as a teaching tool and as a research tool',\n",
              " 'It is meant to be used by linguists as well as other people who simply wish to listen to and compare the accents of different English speakers']"
            ]
          },
          "metadata": {},
          "execution_count": 10
        }
      ]
    },
    {
      "cell_type": "code",
      "source": [
        "list3 =[]\n",
        "for text in textlist:\n",
        "  text = text.replace(',' , \" com\")\n",
        "  text = text.replace('?' , \" que\")\n",
        "  text = text.replace('.' , \" peri\")\n",
        "  text = text.replace('!' , \" exc\")\n",
        "  text = text.replace(';' , \" semic\")\n",
        "  list3.append(text)"
      ],
      "metadata": {
        "id": "2ILLziXtDz4p"
      },
      "execution_count": null,
      "outputs": []
    },
    {
      "cell_type": "code",
      "source": [
        "list3"
      ],
      "metadata": {
        "id": "sW2HXyO5EGec",
        "colab": {
          "base_uri": "https://localhost:8080/"
        },
        "outputId": "2db9896e-1512-4284-b93a-28a7535acf63"
      },
      "execution_count": null,
      "outputs": [
        {
          "output_type": "execute_result",
          "data": {
            "text/plain": [
              "['A paragraph is a series of sentences that are organized and coherent com and are all related to a single topic peri',\n",
              " 'Almost every piece of writing you do that is longer than a few sentences should be organized into paragraphs peri',\n",
              " 'This is because paragraphs show a reader where the subdivisions of an essay begin and end com and thus help the reader see the organization of the essay and grasp its main points peri',\n",
              " 'Paragraphs can contain many different kinds of information peri',\n",
              " 'A paragraph could contain a series of brief examples or a single long illustration of a general point peri',\n",
              " 'It might describe a place com character com or process semic narrate a series of events semic compare or contrast two or more things semic classify items into categories semic or describe causes and effects peri',\n",
              " 'Regardless of the kind of information they contain com all paragraphs share certain characteristics peri',\n",
              " 'One of the most important of these is a topic sentence peri',\n",
              " 'A well-organized paragraph supports or develops a single controlling idea com which is expressed in a sentence called the topic sentence peri',\n",
              " 'Although most paragraphs should have a topic sentence com there are a few situations when a paragraph might not need a topic sentence peri',\n",
              " 'Everyone who speaks a language com speaks it with an accent peri',\n",
              " \"A particular accent essentially reflects a person's linguistic background peri\",\n",
              " 'When people listen to someone speak with a different accent from their own com they notice the difference com and they may even make certain biased social judgments about the speaker peri',\n",
              " 'The speech accent archive is established to uniformly exhibit a large set of speech accents from a variety of language backgrounds peri',\n",
              " 'Native and non-native speakers of English all read the same English paragraph and are carefully recorded peri',\n",
              " 'The archive is constructed as a teaching tool and as a research tool peri',\n",
              " 'It is meant to be used by linguists as well as other people who simply wish to listen to and compare the accents of different English speakers peri']"
            ]
          },
          "metadata": {},
          "execution_count": 12
        }
      ]
    },
    {
      "cell_type": "code",
      "source": [
        "textlist"
      ],
      "metadata": {
        "id": "3PBROXleEqkI",
        "colab": {
          "base_uri": "https://localhost:8080/"
        },
        "outputId": "c5551589-167c-4c84-dcd6-0e38495f67c9"
      },
      "execution_count": null,
      "outputs": [
        {
          "output_type": "execute_result",
          "data": {
            "text/plain": [
              "['A paragraph is a series of sentences that are organized and coherent, and are all related to a single topic.',\n",
              " 'Almost every piece of writing you do that is longer than a few sentences should be organized into paragraphs.',\n",
              " 'This is because paragraphs show a reader where the subdivisions of an essay begin and end, and thus help the reader see the organization of the essay and grasp its main points.',\n",
              " 'Paragraphs can contain many different kinds of information.',\n",
              " 'A paragraph could contain a series of brief examples or a single long illustration of a general point.',\n",
              " 'It might describe a place, character, or process; narrate a series of events; compare or contrast two or more things; classify items into categories; or describe causes and effects.',\n",
              " 'Regardless of the kind of information they contain, all paragraphs share certain characteristics.',\n",
              " 'One of the most important of these is a topic sentence.',\n",
              " 'A well-organized paragraph supports or develops a single controlling idea, which is expressed in a sentence called the topic sentence.',\n",
              " 'Although most paragraphs should have a topic sentence, there are a few situations when a paragraph might not need a topic sentence.',\n",
              " 'Everyone who speaks a language, speaks it with an accent.',\n",
              " \"A particular accent essentially reflects a person's linguistic background.\",\n",
              " 'When people listen to someone speak with a different accent from their own, they notice the difference, and they may even make certain biased social judgments about the speaker.',\n",
              " 'The speech accent archive is established to uniformly exhibit a large set of speech accents from a variety of language backgrounds.',\n",
              " 'Native and non-native speakers of English all read the same English paragraph and are carefully recorded.',\n",
              " 'The archive is constructed as a teaching tool and as a research tool.',\n",
              " 'It is meant to be used by linguists as well as other people who simply wish to listen to and compare the accents of different English speakers.']"
            ]
          },
          "metadata": {},
          "execution_count": 13
        }
      ]
    },
    {
      "cell_type": "code",
      "source": [
        "set = {\"com\", \"que\", \"peri\", \"exc\", \"semic\"}"
      ],
      "metadata": {
        "id": "LDBunDwQDmcs"
      },
      "execution_count": null,
      "outputs": []
    },
    {
      "cell_type": "code",
      "source": [
        "#function to convert string into output\n",
        "def convertstring(text):\n",
        "  mylist = []\n",
        "  text = word_tokenize(text)\n",
        "  set = {\"com\", \"que\", \"peri\", \"exc\", \"semic\"}\n",
        "  for i in text:\n",
        "    if i not in set:\n",
        "      mylist.append(\"o\")\n",
        "    else:\n",
        "      mylist.append(i)\n",
        "  str  = \" \"\n",
        "  return (str.join(mylist))"
      ],
      "metadata": {
        "id": "FvokCv37EtfD"
      },
      "execution_count": null,
      "outputs": []
    },
    {
      "cell_type": "code",
      "source": [
        "str1 = convertstring(list3[0])\n",
        "str1"
      ],
      "metadata": {
        "id": "muIcOwgQF9AI",
        "colab": {
          "base_uri": "https://localhost:8080/",
          "height": 36
        },
        "outputId": "441e0989-d14f-4379-e022-4e0c039d7d8d"
      },
      "execution_count": null,
      "outputs": [
        {
          "output_type": "execute_result",
          "data": {
            "text/plain": [
              "'o o o o o o o o o o o o com o o o o o o o o peri'"
            ],
            "application/vnd.google.colaboratory.intrinsic+json": {
              "type": "string"
            }
          },
          "metadata": {},
          "execution_count": 16
        }
      ]
    },
    {
      "cell_type": "code",
      "source": [
        "outputlist = []\n",
        "for text in list3:\n",
        "  string1 = convertstring(text)\n",
        "  outputlist.append(string1)\n",
        "  string1=\"\""
      ],
      "metadata": {
        "id": "uMRLslz5GvKz"
      },
      "execution_count": null,
      "outputs": []
    },
    {
      "cell_type": "code",
      "source": [
        "outputlist"
      ],
      "metadata": {
        "id": "W5fWHriNJgH0",
        "colab": {
          "base_uri": "https://localhost:8080/"
        },
        "outputId": "ef638d0d-5b4d-43f8-a740-5ae7fe0a801b"
      },
      "execution_count": null,
      "outputs": [
        {
          "output_type": "execute_result",
          "data": {
            "text/plain": [
              "['o o o o o o o o o o o o com o o o o o o o o peri',\n",
              " 'o o o o o o o o o o o o o o o o o o o peri',\n",
              " 'o o o o o o o o o o o o o o o o com o o o o o o o o o o o o o o o o peri',\n",
              " 'o o o o o o o o peri',\n",
              " 'o o o o o o o o o o o o o o o o o o peri',\n",
              " 'o o o o o com o com o o semic o o o o o semic o o o o o o o semic o o o o semic o o o o o peri',\n",
              " 'o o o o o o o o com o o o o o peri',\n",
              " 'o o o o o o o o o o o peri',\n",
              " 'o o o o o o o o o o com o o o o o o o o o o peri',\n",
              " 'o o o o o o o o com o o o o o o o o o o o o o o peri',\n",
              " 'o o o o o com o o o o o peri',\n",
              " 'o o o o o o o o o o peri',\n",
              " 'o o o o o o o o o o o o o com o o o o com o o o o o o o o o o o o peri',\n",
              " 'o o o o o o o o o o o o o o o o o o o o o peri',\n",
              " 'o o o o o o o o o o o o o o o o peri',\n",
              " 'o o o o o o o o o o o o o peri',\n",
              " 'o o o o o o o o o o o o o o o o o o o o o o o o o o o peri']"
            ]
          },
          "metadata": {},
          "execution_count": 18
        }
      ]
    },
    {
      "cell_type": "code",
      "source": [
        "from csv import writer"
      ],
      "metadata": {
        "id": "yqZN5Ykyp9g2"
      },
      "execution_count": null,
      "outputs": []
    },
    {
      "cell_type": "code",
      "source": [
        "rows = zip(inputlist, outputlist)"
      ],
      "metadata": {
        "id": "jEH7F8r85J1g"
      },
      "execution_count": null,
      "outputs": []
    },
    {
      "cell_type": "code",
      "source": [
        "with open(r'/content/project.csv', \"a\") as f:\n",
        "    writer = csv.writer(f)\n",
        "    writer.writerow(['input', 'output'])\n",
        "    for row in rows:\n",
        "        writer.writerow(row)"
      ],
      "metadata": {
        "id": "5jMMVqnO5RE2"
      },
      "execution_count": null,
      "outputs": []
    },
    {
      "cell_type": "code",
      "source": [
        ""
      ],
      "metadata": {
        "id": "tM6p6JS_JlnY"
      },
      "execution_count": null,
      "outputs": []
    }
  ]
}